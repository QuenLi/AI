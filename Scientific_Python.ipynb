{
 "cells": [
  {
   "cell_type": "markdown",
   "id": "65a70f0e-ab7b-41c7-82aa-2278178909b6",
   "metadata": {},
   "source": [
    " # Python 在計算上的優勢\n",
    " \n",
    " Python 與 C 語言的相容性以及轉換效率別高，因此在做多重數據計算時候，相較於Javascript效率會更好。而 Numpy 的這個應用庫則是Python的殺手級應用，在數據統計上有著相當傑出的表現。\n",
    " \n",
    " 目前我們需要知道的數學概念包括一維的數組，如同`[1, 2, 3]`，或者像是二維數組matrix `[[1, 2, 3], [4, 5, 6]]`。而三維 tensor 則較不直觀。因此，我們先從一維與二維開始，三維以後則從數學上推演即可。"
   ]
  },
  {
   "cell_type": "code",
   "execution_count": 4,
   "id": "6d063ea9-4ff3-429e-a0a5-4d710d5822ef",
   "metadata": {},
   "outputs": [],
   "source": [
    "import numpy as np"
   ]
  },
  {
   "cell_type": "markdown",
   "id": "c13458d2-2273-4c0f-8d7c-828283d482db",
   "metadata": {},
   "source": [
    "如果我們要創建數組怎麼做呢?"
   ]
  },
  {
   "cell_type": "code",
   "execution_count": 18,
   "id": "f1ab2dd2-9570-4c42-9240-c7fd2286356a",
   "metadata": {},
   "outputs": [],
   "source": [
    "x = np.array([1.0, 2.0, 3.0])"
   ]
  },
  {
   "cell_type": "code",
   "execution_count": 5,
   "id": "6592ec2c-ba6b-49cf-968a-b912ce0b599a",
   "metadata": {},
   "outputs": [
    {
     "name": "stdout",
     "output_type": "stream",
     "text": [
      "[1. 2. 3.]\n",
      "1.0 2.0 3.0\n",
      "<class 'numpy.ndarray'>\n"
     ]
    }
   ],
   "source": [
    "print(x)\n",
    "print(x[0], x[1], x[2])\n",
    "print(type(x))"
   ]
  },
  {
   "cell_type": "markdown",
   "id": "a601803c-2406-46f8-8888-cf7b290dc81f",
   "metadata": {},
   "source": [
    "第一個`[1. 2. 3.]`代表著這組數組裏頭的數字是浮點數 `float`，而後投若是 0則會被省略。"
   ]
  },
  {
   "cell_type": "code",
   "execution_count": 6,
   "id": "32df0b8d-9ba2-486e-abaf-fe0982ee7dc2",
   "metadata": {},
   "outputs": [
    {
     "name": "stdout",
     "output_type": "stream",
     "text": [
      "1\n",
      "1\n",
      "(3,)\n",
      "3\n",
      "float64\n"
     ]
    }
   ],
   "source": [
    "print(np.ndim(x))\n",
    "print(x.ndim)\n",
    "print(x.shape)\n",
    "print(x.shape[0]) #這個數組的形狀，意思是在每一個維度上有幾個元素\n",
    "print(x.dtype) # dtype指的是 data type，意味著裏頭裝的是什麼數據"
   ]
  },
  {
   "cell_type": "markdown",
   "id": "86ffb691-95f5-4f84-a9e7-2542cf2329c2",
   "metadata": {},
   "source": [
    "注意，雖然烈表示可以放不同的數據類型，但是numpy裏頭的數組必須是同樣的數據類型"
   ]
  },
  {
   "cell_type": "code",
   "execution_count": 8,
   "id": "11f931df-9673-43f2-83ff-f6373d81eaeb",
   "metadata": {},
   "outputs": [
    {
     "name": "stdout",
     "output_type": "stream",
     "text": [
      "[1. 2. 3.]\n",
      "float32\n"
     ]
    }
   ],
   "source": [
    "x1 = x.astype(np.float32) # 將 data type 改換，而這部分的範例是把精度從 64下降到 32，增加效能\n",
    "print(x1)\n",
    "print(x1.dtype)"
   ]
  },
  {
   "cell_type": "code",
   "execution_count": 9,
   "id": "df33753d-28c8-4434-9332-d5402129f0ff",
   "metadata": {},
   "outputs": [
    {
     "name": "stdout",
     "output_type": "stream",
     "text": [
      "[1. 2. 3.]\n",
      "float32\n"
     ]
    }
   ],
   "source": [
    "x2 = np.array([1, 2, 3], dtype=np.float32)\n",
    "print(x2)\n",
    "print(x2.dtype)"
   ]
  },
  {
   "cell_type": "markdown",
   "id": "6131b281-c118-402a-9ceb-69e5566e3792",
   "metadata": {},
   "source": [
    "向量也是可以做運算的，比如:"
   ]
  },
  {
   "cell_type": "code",
   "execution_count": 11,
   "id": "09c80b2f-06ad-480e-bcf7-e7f5af0cb992",
   "metadata": {},
   "outputs": [
    {
     "name": "stdout",
     "output_type": "stream",
     "text": [
      "[3. 6. 9.]\n",
      "[-1. -2. -3.]\n",
      "[ 2.  8. 18.]\n",
      "[0.5 0.5 0.5]\n"
     ]
    }
   ],
   "source": [
    "y = np.array([2.0, 4.0, 6.0])\n",
    "print(x + y)\n",
    "print(x - y)\n",
    "print(x * y)\n",
    "print(x / y)"
   ]
  },
  {
   "cell_type": "markdown",
   "id": "183ada3f-bbe8-47db-8970-5e4eeca83d09",
   "metadata": {},
   "source": [
    "上面的例子還可以寫成如下形式:"
   ]
  },
  {
   "cell_type": "code",
   "execution_count": 16,
   "id": "0c617252-bdcc-43ae-9a95-1b4bbb3aebc0",
   "metadata": {},
   "outputs": [
    {
     "name": "stdout",
     "output_type": "stream",
     "text": [
      "[3. 6. 9.]\n",
      "[-1. -2. -3.]\n",
      "[ 2.  8. 18.]\n",
      "[0.5 0.5 0.5]\n"
     ]
    }
   ],
   "source": [
    "print(np.add(x, y))\n",
    "print(np.subtract(x, y))\n",
    "print(np.multiply(x, y))\n",
    "print(np.divide(x, y))"
   ]
  },
  {
   "cell_type": "markdown",
   "id": "829af374-89c5-4160-880d-3c9e90853a62",
   "metadata": {},
   "source": [
    "以下為用 Latex語法寫成的數學表達式，記得要用mardown執行，否則會報錯。"
   ]
  },
  {
   "cell_type": "markdown",
   "id": "f5474605-1116-481f-9fcd-11692121fb92",
   "metadata": {},
   "source": [
    "$$x = \\begin{pmatrix} a_{1} & a_{2} & a_{3} \\end{pmatrix}$$\n",
    "\n",
    "$$y = \\begin{pmatrix} b_{1} & b_{2} & b_{3} \\end{pmatrix}$$\n",
    "\n",
    "$$x \\cdot y = a_{1}b_{1} + a_{2}b_{2} + a_{3}b{3}$$"
   ]
  },
  {
   "cell_type": "markdown",
   "id": "3c84926c-1f79-40e0-8d61-aba0c727ef24",
   "metadata": {},
   "source": [
    "上面寫法如下:\n",
    "\n",
    "`$$x = \\begin{pmatrix} a_{1} & a_{2} & a_{3} \\end{pmatrix}$$`\n",
    "\n",
    "`$$y = \\begin{pmatrix} b_{1} & b_{2} & b_{3} \\end{pmatrix}$$`\n",
    "\n",
    "`$$x \\cdot y = a_{1}b_{1} + a_{2}b_{2} + a_{3}b{3}$$`\n",
    "\n",
    "而這樣算出來的不是向量，而是標量，得出的是一個數，也可以在python裏頭用以下方式計算"
   ]
  },
  {
   "cell_type": "code",
   "execution_count": 22,
   "id": "f7826244-a5c7-4fdd-8db8-63ac29e0524e",
   "metadata": {},
   "outputs": [
    {
     "name": "stdout",
     "output_type": "stream",
     "text": [
      "28.0\n",
      "28.0\n"
     ]
    }
   ],
   "source": [
    "print(x.dot(y)) # 點集\n",
    "print(np.dot(x, y))"
   ]
  },
  {
   "cell_type": "code",
   "execution_count": 24,
   "id": "9c9afe57-adc8-4175-9973-46c0988842aa",
   "metadata": {},
   "outputs": [
    {
     "name": "stdout",
     "output_type": "stream",
     "text": [
      "[0.5 1.  1.5]\n"
     ]
    }
   ],
   "source": [
    "print(x/ 2.0) # procasting 功能"
   ]
  },
  {
   "cell_type": "markdown",
   "id": "4f8e10d0-7a6d-4451-bf7d-281b61cf6994",
   "metadata": {},
   "source": [
    "下面與上面等價，只是寫法較複雜，因此用 procasting其實方便許多。"
   ]
  },
  {
   "cell_type": "code",
   "execution_count": 26,
   "id": "ab1eba05-d7b1-49dc-b1c6-3b885acdbec4",
   "metadata": {},
   "outputs": [
    {
     "name": "stdout",
     "output_type": "stream",
     "text": [
      "[0.5 1.  1.5]\n"
     ]
    }
   ],
   "source": [
    "print(x / np.array([2.0, 2.0, 2.0])) "
   ]
  },
  {
   "cell_type": "markdown",
   "id": "220bab3c-60d4-46fd-a68b-a42e17a278e8",
   "metadata": {},
   "source": [
    "## 二維數組的玩法"
   ]
  },
  {
   "cell_type": "code",
   "execution_count": 6,
   "id": "3bc882d2-8ed2-475d-82ff-06f17e69b1cd",
   "metadata": {},
   "outputs": [
    {
     "name": "stdout",
     "output_type": "stream",
     "text": [
      "[[1 2 3]\n",
      " [4 5 6]]\n"
     ]
    }
   ],
   "source": [
    "A = np.array([[1, 2, 3], [4, 5, 6]])\n",
    "print(A)"
   ]
  },
  {
   "cell_type": "code",
   "execution_count": 29,
   "id": "465962c2-51cd-4341-95c8-a15b4fb0c7c6",
   "metadata": {},
   "outputs": [
    {
     "name": "stdout",
     "output_type": "stream",
     "text": [
      "2\n",
      "(2, 3)\n",
      "2\n",
      "int32\n",
      "[4 5 6]\n",
      "4\n"
     ]
    }
   ],
   "source": [
    "print(A.ndim)\n",
    "print(A.shape)\n",
    "print(A.shape[0]) # 想知道第一個維度有幾個數\n",
    "print(A.dtype)\n",
    "print(A[1])\n",
    "print(A[1][0])"
   ]
  },
  {
   "cell_type": "markdown",
   "id": "750fd1ac-c5dc-4805-98be-af2a70577c92",
   "metadata": {},
   "source": [
    "這個數組也算是個容器，因此可以取出其中的元素"
   ]
  },
  {
   "cell_type": "code",
   "execution_count": 30,
   "id": "5d82f0a1-8bc8-41a5-92a0-30ee5e883eb8",
   "metadata": {},
   "outputs": [
    {
     "name": "stdout",
     "output_type": "stream",
     "text": [
      "[1 2 3]\n",
      "[4 5 6]\n"
     ]
    }
   ],
   "source": [
    "for row in A:\n",
    "    print(row)"
   ]
  },
  {
   "cell_type": "markdown",
   "id": "93855a81-be8e-46d3-a534-f605aafbc50e",
   "metadata": {},
   "source": [
    "## 二維數組的運算\n",
    "接下來如同一維中的介紹，我們來看對二維的數組運算操作示範"
   ]
  },
  {
   "cell_type": "code",
   "execution_count": 5,
   "id": "7f1b67d9-dc43-44a8-8d2d-f8e77b4cd988",
   "metadata": {},
   "outputs": [],
   "source": [
    "B = np.array([[0.1, 0.2, 0.3], [0.1, 0.2, 0.3]])"
   ]
  },
  {
   "cell_type": "code",
   "execution_count": 33,
   "id": "605ad2bc-4fa7-49fd-8ca9-ef6d3206bb22",
   "metadata": {},
   "outputs": [
    {
     "name": "stdout",
     "output_type": "stream",
     "text": [
      "[[1.1 2.2 3.3]\n",
      " [4.1 5.2 6.3]]\n",
      "[[1.1 2.2 3.3]\n",
      " [4.1 5.2 6.3]]\n"
     ]
    }
   ],
   "source": [
    "print(A + B)\n",
    "print(np.add(A, B))"
   ]
  },
  {
   "cell_type": "code",
   "execution_count": 35,
   "id": "cb0f599a-0e32-4728-b1ed-4723d2dd830e",
   "metadata": {},
   "outputs": [
    {
     "name": "stdout",
     "output_type": "stream",
     "text": [
      "[[0.1 0.4 0.9]\n",
      " [0.4 1.  1.8]]\n",
      "[[0.1 0.4 0.9]\n",
      " [0.4 1.  1.8]]\n"
     ]
    }
   ],
   "source": [
    "print(A * B)\n",
    "print(np.multiply(A, B))"
   ]
  },
  {
   "cell_type": "code",
   "execution_count": 36,
   "id": "69bcf569-eca6-42e6-960e-86539a52b4db",
   "metadata": {},
   "outputs": [
    {
     "name": "stdout",
     "output_type": "stream",
     "text": [
      "[[10 20 30]\n",
      " [40 50 60]]\n"
     ]
    }
   ],
   "source": [
    "print(A * 10) # 也可以做矩陣與標量的處理"
   ]
  },
  {
   "cell_type": "code",
   "execution_count": 37,
   "id": "3ae67582-20ac-4b59-bb7d-e99a61655e2b",
   "metadata": {},
   "outputs": [
    {
     "name": "stdout",
     "output_type": "stream",
     "text": [
      "[[10 20 30]\n",
      " [40 50 60]]\n"
     ]
    }
   ],
   "source": [
    "print(A * np.full((2, 3), 10)) # np.full是快速幫助我們創建一個數組，裏頭所有元素都是 10"
   ]
  },
  {
   "cell_type": "markdown",
   "id": "56e52588-ee1b-4ce2-b7f2-e1d1b9bb5587",
   "metadata": {},
   "source": [
    "另外，我們來看一個數學公式:\n",
    "$$A = \\begin{pmatrix} a_{11} & a_{12} & a_{13} \\\\ a_{21} & a_{22} & a_{23} \\end{pmatrix} = \\begin{pmatrix} \\vec{a_{1}} \\\\ \\vec{a_{2}} \\end{pmatrix}$$\n",
    "\n",
    "$$B = \\begin{pmatrix} b_{11} & b_{12} \\\\ b_{21} & b_{22} \\\\ b_{31} & b_{32} \\end{pmatrix} = \\begin{pmatrix} \\vec{b_{1}} & \\vec{b_{2}} \\end{pmatrix}$$\n",
    "\n",
    "$$A \\cdot B = \\begin{pmatrix} \\vec{a_{1}} \\cdot \\vec{b_{1}} & \\vec{a_{1}} \\cdot \\vec{b_{2}} \\\\ \\vec{a_{2}} \\cdot \\vec{b_{1}} & \\vec{a_{2}} \\cdot \\vec{b_{2}} \\end{pmatrix} = \\begin{pmatrix} a_{11}b_{11}+a_{12}b_{21}+a_{13}b_{31} & a_{11}b_{12}+a_{12}b_{22}+a_{13}b_{32} \\\\\n",
    "a_{21}b_{11}+a_{22}b_{21}+a_{23}b_{31} & a_{21}b_{12}+a_{22}b_{22}+a_{23}b_{32} \\end{pmatrix}$$"
   ]
  },
  {
   "cell_type": "code",
   "execution_count": 38,
   "id": "a13a440e-6349-4994-b23a-323ce2ae84e1",
   "metadata": {},
   "outputs": [
    {
     "name": "stdout",
     "output_type": "stream",
     "text": [
      "[[1 2 3]\n",
      " [4 5 6]]\n",
      "[[0.1 0.2 0.3]\n",
      " [0.1 0.2 0.3]]\n",
      "[[0.1 0.1]\n",
      " [0.2 0.2]\n",
      " [0.3 0.3]]\n"
     ]
    }
   ],
   "source": [
    "print(A)\n",
    "print(B)\n",
    "print(B.T) #B.transpose 縮寫 (轉置矩陣)，沿著主對角線做翻轉"
   ]
  },
  {
   "cell_type": "code",
   "execution_count": 41,
   "id": "d9570706-189d-44fe-90dc-1b44ca74d445",
   "metadata": {},
   "outputs": [
    {
     "name": "stdout",
     "output_type": "stream",
     "text": [
      "[[1.4 1.4]\n",
      " [3.2 3.2]]\n",
      "[[1.4 1.4]\n",
      " [3.2 3.2]]\n"
     ]
    }
   ],
   "source": [
    "# print(A.dot(B)) 會報錯\n",
    "print(A.dot(B.T))\n",
    "print(np.dot(A, B.T))"
   ]
  },
  {
   "cell_type": "code",
   "execution_count": 42,
   "id": "d2aa94eb-3352-489d-b112-c1e3e099bc4e",
   "metadata": {},
   "outputs": [
    {
     "name": "stdout",
     "output_type": "stream",
     "text": [
      "[[0.5 0.7 0.9]\n",
      " [1.  1.4 1.8]\n",
      " [1.5 2.1 2.7]]\n"
     ]
    }
   ],
   "source": [
    "print(np.dot(B.T, A))"
   ]
  },
  {
   "cell_type": "markdown",
   "id": "c7e6cdd4-9102-4013-b415-469f4b1818ae",
   "metadata": {},
   "source": [
    "位置交換之後，兩者的差異，顯示出沒有交換律，需要特別注意!\n",
    "\n",
    "另外，在神經網絡中，每一層都是得到一個向量矩陣，因此對於此矩陣的理解相當重要。"
   ]
  },
  {
   "cell_type": "code",
   "execution_count": 4,
   "id": "c6f24336-bea5-4fb9-9dad-657ae35c899c",
   "metadata": {},
   "outputs": [],
   "source": [
    "v = np.array([0.1, 0.2, 0.3])\n",
    "w = np.array([1 ,4])"
   ]
  },
  {
   "cell_type": "code",
   "execution_count": 44,
   "id": "d840a09a-5c2d-459e-8b61-7c323f8cc486",
   "metadata": {},
   "outputs": [
    {
     "name": "stdout",
     "output_type": "stream",
     "text": [
      "[1.4 3.2]\n"
     ]
    }
   ],
   "source": [
    "print(A.dot(v)) "
   ]
  },
  {
   "cell_type": "markdown",
   "id": "50d291c9-3615-4a1d-9897-44f2f360dbbb",
   "metadata": {},
   "source": [
    "之所以沒有報錯，是因為一維的數列在 numpy上可以自動轉換。真實的數學橫的寫跟豎著寫是不一樣的。"
   ]
  },
  {
   "cell_type": "code",
   "execution_count": 45,
   "id": "6506f224-8ed8-4e10-b32a-5e4234c1240d",
   "metadata": {},
   "outputs": [
    {
     "name": "stdout",
     "output_type": "stream",
     "text": [
      "[0.14 0.14]\n"
     ]
    }
   ],
   "source": [
    "print(v.dot(B.T))"
   ]
  },
  {
   "cell_type": "code",
   "execution_count": 46,
   "id": "706b5247-0245-420f-9bce-3a8af40d9102",
   "metadata": {},
   "outputs": [
    {
     "name": "stdout",
     "output_type": "stream",
     "text": [
      "[0.5 1.  1.5]\n"
     ]
    }
   ],
   "source": [
    "print(B.T.dot(w))"
   ]
  },
  {
   "cell_type": "markdown",
   "id": "49085aa2-1d43-4bda-bd09-058278baadea",
   "metadata": {},
   "source": [
    "目前為止我們講了 numpy的向量與操作，需要複習的部分包含線性代數的矩陣內容。"
   ]
  },
  {
   "cell_type": "code",
   "execution_count": 8,
   "id": "40e81872-fdf7-4bfd-9d7a-ece86bc546f4",
   "metadata": {},
   "outputs": [
    {
     "name": "stdout",
     "output_type": "stream",
     "text": [
      "[[0. 0. 0.]\n",
      " [0. 0. 0.]\n",
      " [0. 0. 0.]]\n"
     ]
    }
   ],
   "source": [
    "a = np.zeros((3, 3)) # 創建一個 3X3 裏頭數字都為 0的數組\n",
    "print(a)"
   ]
  },
  {
   "cell_type": "code",
   "execution_count": 9,
   "id": "07b1a777-98f0-4b18-aeae-7b4fb87b3da1",
   "metadata": {},
   "outputs": [
    {
     "name": "stdout",
     "output_type": "stream",
     "text": [
      "[[1. 1. 1. 1.]]\n"
     ]
    }
   ],
   "source": [
    "b = np.ones((1, 4))\n",
    "print(b)"
   ]
  },
  {
   "cell_type": "code",
   "execution_count": 11,
   "id": "422e7e2b-6946-4171-9407-32fd4d1df39c",
   "metadata": {},
   "outputs": [
    {
     "name": "stdout",
     "output_type": "stream",
     "text": [
      "[[7 7 7]\n",
      " [7 7 7]\n",
      " [7 7 7]]\n"
     ]
    }
   ],
   "source": [
    "c = np.full((3, 3), 7)\n",
    "print(c)"
   ]
  },
  {
   "cell_type": "code",
   "execution_count": 12,
   "id": "685d39fe-4df5-4c95-9d1e-05507bac2674",
   "metadata": {},
   "outputs": [
    {
     "name": "stdout",
     "output_type": "stream",
     "text": [
      "[[1. 0. 0. 0.]\n",
      " [0. 1. 0. 0.]\n",
      " [0. 0. 1. 0.]\n",
      " [0. 0. 0. 1.]]\n"
     ]
    }
   ],
   "source": [
    "d = np.eye(4) # 主對角線為 1，原本應該是大寫的 I，這裡用諧音\n",
    "print(d)"
   ]
  },
  {
   "cell_type": "code",
   "execution_count": 13,
   "id": "4b735ff7-02c6-4046-bc96-c24970640f8c",
   "metadata": {},
   "outputs": [
    {
     "name": "stdout",
     "output_type": "stream",
     "text": [
      "[[0.32108041 0.99191443 0.60593106 0.00149422]\n",
      " [0.99269627 0.11483181 0.74663972 0.36987745]\n",
      " [0.27941102 0.17297901 0.06397045 0.84346934]]\n"
     ]
    }
   ],
   "source": [
    "e = np.random.random((3, 4))\n",
    "print(e)"
   ]
  },
  {
   "cell_type": "code",
   "execution_count": 16,
   "id": "3e823044-6b00-4793-9601-cfb99acd81e1",
   "metadata": {},
   "outputs": [
    {
     "name": "stdout",
     "output_type": "stream",
     "text": [
      "[0.  0.2 0.4 0.6 0.8]\n"
     ]
    }
   ],
   "source": [
    "f = np.arange(0, 1, 0.2) # 創建向量的辦法，前面兩個參數表示數值範圍，最後一個是間隔多少\n",
    "print(f)"
   ]
  },
  {
   "cell_type": "code",
   "execution_count": 19,
   "id": "dca2ced4-e3dd-48ee-ac51-31e296f4455f",
   "metadata": {},
   "outputs": [
    {
     "name": "stdout",
     "output_type": "stream",
     "text": [
      "[0.84147098 0.90929743 0.14112001]\n",
      "[[1.         1.41421356 1.73205081]\n",
      " [2.         2.23606798 2.44948974]]\n"
     ]
    }
   ],
   "source": [
    "print(np.sin(x))\n",
    "print(np.sqrt(A))"
   ]
  },
  {
   "cell_type": "code",
   "execution_count": 20,
   "id": "dba305a5-7c2c-4ae7-bc46-cd545fbed2f3",
   "metadata": {},
   "outputs": [
    {
     "name": "stdout",
     "output_type": "stream",
     "text": [
      "[[1 2 3]\n",
      " [4 5 6]]\n",
      "21\n",
      "[5 7 9]\n",
      "[ 6 15]\n"
     ]
    }
   ],
   "source": [
    "print(A)\n",
    "print(np.sum(A))\n",
    "print(np.sum(A, axis=0))\n",
    "print(np.sum(A, axis=1)) # 行 與 列向量也會寫成橫寫的格式"
   ]
  },
  {
   "cell_type": "markdown",
   "id": "46529d6e-751f-4657-93db-71fd5ea44bbf",
   "metadata": {},
   "source": [
    "前面的操作除了點集與 transferse指令外，不會改變數組的shape"
   ]
  },
  {
   "cell_type": "code",
   "execution_count": 22,
   "id": "86febd1a-d6cf-4af4-9189-f8b32ef4e181",
   "metadata": {},
   "outputs": [
    {
     "name": "stdout",
     "output_type": "stream",
     "text": [
      "[[0.1 0.2 0.3]\n",
      " [0.1 0.2 0.3]]\n",
      "[0.1 0.2 0.3 0.1 0.2 0.3]\n"
     ]
    }
   ],
   "source": [
    "print(B)\n",
    "C = B.flatten() # 拍平，降維打擊:D\n",
    "print(C)"
   ]
  },
  {
   "cell_type": "code",
   "execution_count": 23,
   "id": "51a10645-ad2a-4085-9d13-7073a7b81d61",
   "metadata": {},
   "outputs": [
    {
     "name": "stdout",
     "output_type": "stream",
     "text": [
      "[0.  0.1 0.2 0.3 0.4 0.5 0.6 0.7 0.8 0.9]\n"
     ]
    }
   ],
   "source": [
    "p = np.arange(0, 1, 0.1)\n",
    "print(p)"
   ]
  },
  {
   "cell_type": "code",
   "execution_count": 24,
   "id": "986bf2c1-be7f-477a-be87-a7a8999b4974",
   "metadata": {},
   "outputs": [
    {
     "name": "stdout",
     "output_type": "stream",
     "text": [
      "[[0.  0.1]\n",
      " [0.2 0.3]\n",
      " [0.4 0.5]\n",
      " [0.6 0.7]\n",
      " [0.8 0.9]]\n"
     ]
    }
   ],
   "source": [
    "p = p.reshape((5, 2)) # 形狀的參數類型是 tuple；reshape必須符合原本數組的元素數量\n",
    "print(p)"
   ]
  },
  {
   "cell_type": "code",
   "execution_count": 25,
   "id": "c4e6cecc-b70c-4424-9c12-d4bc4c34e075",
   "metadata": {},
   "outputs": [
    {
     "name": "stdout",
     "output_type": "stream",
     "text": [
      "[[1.  1.1]\n",
      " [1.2 1.3]\n",
      " [1.4 1.5]\n",
      " [1.6 1.7]\n",
      " [1.8 1.9]]\n"
     ]
    }
   ],
   "source": [
    "q = np.arange(1, 2, 0.1).reshape((5, 2))\n",
    "print(q)"
   ]
  },
  {
   "cell_type": "code",
   "execution_count": 26,
   "id": "a8a6f137-a24e-4462-9cc7-bdc66abe996f",
   "metadata": {},
   "outputs": [
    {
     "name": "stdout",
     "output_type": "stream",
     "text": [
      "[[0.  0.1 1.  1.1]\n",
      " [0.2 0.3 1.2 1.3]\n",
      " [0.4 0.5 1.4 1.5]\n",
      " [0.6 0.7 1.6 1.7]\n",
      " [0.8 0.9 1.8 1.9]]\n"
     ]
    }
   ],
   "source": [
    "print(np.concatenate((p, q), axis=1))"
   ]
  },
  {
   "cell_type": "code",
   "execution_count": 27,
   "id": "c0be1658-8091-4467-aa01-4d717da7d99e",
   "metadata": {},
   "outputs": [
    {
     "name": "stdout",
     "output_type": "stream",
     "text": [
      "[0.1 0.2 0.3 0.1 0.2 0.3]\n"
     ]
    }
   ],
   "source": [
    "print(C)"
   ]
  },
  {
   "cell_type": "code",
   "execution_count": 28,
   "id": "ce9632f6-a725-43cc-b724-3dab8dddb651",
   "metadata": {},
   "outputs": [
    {
     "data": {
      "text/plain": [
       "array([False,  True,  True, False,  True,  True])"
      ]
     },
     "execution_count": 28,
     "metadata": {},
     "output_type": "execute_result"
    }
   ],
   "source": [
    "C > 0.15 # 產生了新的數組，變成了布爾向量。"
   ]
  },
  {
   "cell_type": "code",
   "execution_count": 29,
   "id": "426e04bd-21a0-4987-89ad-cfe16857047a",
   "metadata": {},
   "outputs": [
    {
     "data": {
      "text/plain": [
       "array([0.2, 0.3, 0.2, 0.3])"
      ]
     },
     "execution_count": 29,
     "metadata": {},
     "output_type": "execute_result"
    }
   ],
   "source": [
    "C[[False,  True,  True, False,  True,  True]]"
   ]
  },
  {
   "cell_type": "code",
   "execution_count": 30,
   "id": "fccc8052-92d1-43b2-9272-9ff79e62c242",
   "metadata": {},
   "outputs": [
    {
     "data": {
      "text/plain": [
       "array([0.2, 0.3, 0.2, 0.3])"
      ]
     },
     "execution_count": 30,
     "metadata": {},
     "output_type": "execute_result"
    }
   ],
   "source": [
    "C[C > 0.15] # 把上面兩部結合起來。"
   ]
  },
  {
   "cell_type": "code",
   "execution_count": 31,
   "id": "8845550a-9911-4a52-8e82-26f0855dad80",
   "metadata": {},
   "outputs": [
    {
     "name": "stdout",
     "output_type": "stream",
     "text": [
      "[0.1  0.05 0.15 0.1  0.05 0.15]\n"
     ]
    }
   ],
   "source": [
    "C[C > 0.15] -= 0.15\n",
    "print(C)"
   ]
  },
  {
   "cell_type": "code",
   "execution_count": 62,
   "id": "fea3a66e-dbff-4391-a003-36d184daabc3",
   "metadata": {},
   "outputs": [
    {
     "name": "stdout",
     "output_type": "stream",
     "text": [
      "[[ 1  2  3  4]\n",
      " [ 5  6  7  8]\n",
      " [ 9 10 11 12]]\n",
      "(3, 4)\n"
     ]
    }
   ],
   "source": [
    "D = np.array([[1,2,3,4], [5,6,7,8], [9,10,11,12]])\n",
    "print(D)\n",
    "print(D.shape)"
   ]
  },
  {
   "cell_type": "code",
   "execution_count": 63,
   "id": "1b6b43e8-b3b8-4fd2-af80-a6fa4ff2f89c",
   "metadata": {},
   "outputs": [
    {
     "name": "stdout",
     "output_type": "stream",
     "text": [
      "[[2 3]\n",
      " [6 7]]\n",
      "(2, 2)\n"
     ]
    }
   ],
   "source": [
    "D1 = D[0:2, 1:3] # 做切片，從頭開始切，前面指定要切的列數，後面指定要切的行數，在此與D[0:2, 1:3]等效。\n",
    "print(D1)\n",
    "print(D1.shape)"
   ]
  },
  {
   "cell_type": "markdown",
   "id": "ca4b4ed7-feef-4502-bb78-8755058aa393",
   "metadata": {},
   "source": [
    "在這裡對於切片的理解有些卡關，在經過反覆聽這一片斷後的測試如下:"
   ]
  },
  {
   "cell_type": "code",
   "execution_count": 64,
   "id": "b77afeac-d0e2-425f-ae02-2876ae961582",
   "metadata": {},
   "outputs": [
    {
     "name": "stdout",
     "output_type": "stream",
     "text": [
      "[[ 9 10 11]]\n"
     ]
    },
    {
     "data": {
      "text/plain": [
       "numpy.ndarray"
      ]
     },
     "execution_count": 64,
     "metadata": {},
     "output_type": "execute_result"
    }
   ],
   "source": [
    "D2 = D[2:3, 0:3]\n",
    "print(D2)\n",
    "type(D2)"
   ]
  },
  {
   "cell_type": "markdown",
   "id": "bc2cd995-c020-4fbc-9bfa-c47b68e401b9",
   "metadata": {},
   "source": [
    "得到的結論就是，這種切片法前面的位置參數指定的是列數，後面的指定的是行數。不過有一點要注意，當我用`D[2, 0:3]`得到的輸出會是`[9 10 11]`，而用`D[2:3, 0:3]`得到的輸出會是`[[9 10 11]]`，用type查詢得到的都是`numpy.ndarray`，暫時不知道有什麼區別。下面的筆記與內容有提到，差異在於指定範圍的用`.shape`查詢下不會有降維的狀況發生；反之只有指定某一列的動作，會讓這裡的輸出變成只有一維(參見更下方的示例)。"
   ]
  },
  {
   "cell_type": "markdown",
   "id": "fc30650d-fb9a-4c11-9c15-0ebff38d70eb",
   "metadata": {},
   "source": [
    "注意! 對切片裡做動作也會改變原本的數組內容，這一點跟 list不同。"
   ]
  },
  {
   "cell_type": "code",
   "execution_count": 65,
   "id": "57bb597a-6894-4a38-b6fb-335633130c37",
   "metadata": {},
   "outputs": [
    {
     "name": "stdout",
     "output_type": "stream",
     "text": [
      "[[42  3]\n",
      " [ 6  7]]\n",
      "[[ 1 42  3  4]\n",
      " [ 5  6  7  8]\n",
      " [ 9 10 11 12]]\n"
     ]
    }
   ],
   "source": [
    "D1[0, 0] = 42\n",
    "print(D1)\n",
    "print(D)"
   ]
  },
  {
   "cell_type": "markdown",
   "id": "3608345b-539c-4c23-863c-70a4f3d57d73",
   "metadata": {},
   "source": [
    "指定某列與指定範圍的差異:"
   ]
  },
  {
   "cell_type": "code",
   "execution_count": 66,
   "id": "602796e9-f267-4f74-9577-9d82842a6f95",
   "metadata": {},
   "outputs": [
    {
     "name": "stdout",
     "output_type": "stream",
     "text": [
      "[5 6 7 8] (4,)\n",
      "[[5 6 7 8]] (1, 4)\n"
     ]
    }
   ],
   "source": [
    "r1 = D[1, :]\n",
    "r2 = D[1:2, :]\n",
    "print(r1, r1.shape)\n",
    "print(r2, r2.shape)"
   ]
  },
  {
   "cell_type": "markdown",
   "id": "69d03ce4-7009-4d8d-8515-e8320aef19e1",
   "metadata": {},
   "source": [
    "指定某行與指定範圍的差異，與上方範例雷同:"
   ]
  },
  {
   "cell_type": "code",
   "execution_count": 69,
   "id": "3ff575d8-1f40-4414-b3da-4b9b9947dd28",
   "metadata": {},
   "outputs": [
    {
     "name": "stdout",
     "output_type": "stream",
     "text": [
      "[ 3  7 11] (3,)\n",
      "[[ 3]\n",
      " [ 7]\n",
      " [11]] (3, 1)\n"
     ]
    }
   ],
   "source": [
    "t1 = D[:, 2]\n",
    "t2 = D[:, 2:3]\n",
    "print(t1, t1.shape)\n",
    "print(t2, t2.shape)"
   ]
  },
  {
   "cell_type": "markdown",
   "id": "53e9275c-c834-49a8-8ff5-b8665c44371d",
   "metadata": {},
   "source": [
    "## 下標數組"
   ]
  },
  {
   "cell_type": "markdown",
   "id": "eb9bac26-ca66-45a6-8d6a-e645f57a0523",
   "metadata": {},
   "source": [
    "有些時候我們會需要挑出零散的數據，再做處理成一個新的向量的話，我們能怎麼做呢?"
   ]
  },
  {
   "cell_type": "code",
   "execution_count": 70,
   "id": "b0b7811c-fb74-4035-8d20-997c79fecf7e",
   "metadata": {},
   "outputs": [
    {
     "name": "stdout",
     "output_type": "stream",
     "text": [
      "[[ 1 42  3  4]\n",
      " [ 5  6  7  8]\n",
      " [ 9 10 11 12]]\n"
     ]
    }
   ],
   "source": [
    "print(D)"
   ]
  },
  {
   "cell_type": "code",
   "execution_count": 71,
   "id": "8c517ee4-a767-4450-9aec-94efb0ecedaa",
   "metadata": {},
   "outputs": [
    {
     "name": "stdout",
     "output_type": "stream",
     "text": [
      "1 42 5 12\n",
      "1 42 5 12\n"
     ]
    }
   ],
   "source": [
    "print(D[0][0], D[0][1], D[1][0], D[2][3])\n",
    "print(D[0, 0], D[0, 1], D[1, 0], D[2, 3]) # 與上面等價"
   ]
  },
  {
   "cell_type": "code",
   "execution_count": 74,
   "id": "3ec2c167-e5b3-44ff-bf83-92d181b2622d",
   "metadata": {},
   "outputs": [
    {
     "name": "stdout",
     "output_type": "stream",
     "text": [
      "[ 1 42  5 12]\n"
     ]
    }
   ],
   "source": [
    "print(np.array([D[0, 0], D[0, 1], D[1, 0], D[2, 3]]))"
   ]
  },
  {
   "cell_type": "code",
   "execution_count": 78,
   "id": "7ad88b4e-98ef-40df-8cfb-d594bb621a2a",
   "metadata": {},
   "outputs": [
    {
     "name": "stdout",
     "output_type": "stream",
     "text": [
      "[ 1 42  5 12]\n"
     ]
    }
   ],
   "source": [
    "print(D[[0, 0, 1, 2], [0, 1, 0, 3]]) # 上方的簡潔寫法"
   ]
  },
  {
   "cell_type": "code",
   "execution_count": 81,
   "id": "9719777e-4e0e-47f7-9b0d-6aa0a5533f6b",
   "metadata": {},
   "outputs": [
    {
     "name": "stdout",
     "output_type": "stream",
     "text": [
      "11\n"
     ]
    }
   ],
   "source": [
    "print(D[2, 2]) # 從座標中指定要哪個數"
   ]
  },
  {
   "cell_type": "markdown",
   "id": "1a09f953-7285-470e-b8b9-689c7403f3b1",
   "metadata": {},
   "source": [
    "## 再談Broadcasting"
   ]
  },
  {
   "cell_type": "code",
   "execution_count": 82,
   "id": "b9d88e40-f22b-4baa-943f-10967e90c56b",
   "metadata": {},
   "outputs": [
    {
     "name": "stdout",
     "output_type": "stream",
     "text": [
      "[[ 2  2  4]\n",
      " [ 5  5  7]\n",
      " [ 8  8 10]\n",
      " [11 11 13]]\n"
     ]
    }
   ],
   "source": [
    "X = np.array([[1, 2, 3], [4, 5, 6], [7, 8, 9], [10, 11, 12]])\n",
    "u = np.array([1, 0, 1])\n",
    "Y = np.empty_like(X)\n",
    "\n",
    "for i in range(4):\n",
    "    Y[i, :] = X[i, :] + u\n",
    "    \n",
    "print(Y)\n",
    "\n",
    "# 假設我們想把數組中的每一個都加上一個向量，我們可以怎麼做?"
   ]
  },
  {
   "cell_type": "code",
   "execution_count": 85,
   "id": "b9f5ef78-21b0-4b29-8889-070d4b4cd4cd",
   "metadata": {},
   "outputs": [
    {
     "name": "stdout",
     "output_type": "stream",
     "text": [
      "[[1 0 1]\n",
      " [1 0 1]\n",
      " [1 0 1]\n",
      " [1 0 1]]\n",
      "[[ 2  2  4]\n",
      " [ 5  5  7]\n",
      " [ 8  8 10]\n",
      " [11 11 13]]\n"
     ]
    }
   ],
   "source": [
    "# 還可以用另外更簡單的方法來做\n",
    "\n",
    "U = np.tile(u, [4, 1])\n",
    "print(U)\n",
    "Y = X + u\n",
    "print(Y)"
   ]
  },
  {
   "cell_type": "code",
   "execution_count": 87,
   "id": "41125338-3306-408a-b345-d1aa723004f9",
   "metadata": {},
   "outputs": [
    {
     "name": "stdout",
     "output_type": "stream",
     "text": [
      "[[ 2  2  4]\n",
      " [ 5  5  7]\n",
      " [ 8  8 10]\n",
      " [11 11 13]]\n"
     ]
    }
   ],
   "source": [
    "print(X + u) # 其實 numpy會自動擴充，做的是跟上面的一樣，這就稱為Broadcasting。"
   ]
  },
  {
   "cell_type": "markdown",
   "id": "74c6d181-d55c-49ad-aec4-d1b202f2a61b",
   "metadata": {},
   "source": [
    "這裡李駿老師介紹了 Brodcasting的[官方網站](https://scipy.github.io/old-wiki/pages/EricsBroadcastingDoc)文檔，講述著什麼情況下Broadcasting會怎麼做堆疊，什麼時候不會。凡是支持的稱為universal function，內容挺多，有空可以自行延伸閱讀。"
   ]
  },
  {
   "cell_type": "markdown",
   "id": "a7107012-d1dc-44cc-9413-7774807c8357",
   "metadata": {},
   "source": [
    "最後，我們來做點腦筋體操，鍛鍊一下思維。\n",
    "首先我們定義一下矩陣:"
   ]
  },
  {
   "cell_type": "code",
   "execution_count": 6,
   "id": "49cdaf45-a225-4a41-a184-d2f8eba63606",
   "metadata": {},
   "outputs": [
    {
     "name": "stdout",
     "output_type": "stream",
     "text": [
      "[[1 2 3]\n",
      " [4 5 6]]\n"
     ]
    }
   ],
   "source": [
    "M = np.array([[1,2,3], [4,5,6]])\n",
    "print(M)"
   ]
  },
  {
   "cell_type": "markdown",
   "id": "fa57f4e6-c77e-41df-8eaa-3ff6740bfaaa",
   "metadata": {},
   "source": [
    "標量是 0維的"
   ]
  },
  {
   "cell_type": "code",
   "execution_count": 5,
   "id": "4dab395b-5025-4d87-8c2e-0f07148a991f",
   "metadata": {},
   "outputs": [
    {
     "name": "stdout",
     "output_type": "stream",
     "text": [
      "[[ 4  5]\n",
      " [ 8 10]\n",
      " [12 15]]\n"
     ]
    }
   ],
   "source": [
    "v1 = np.array([1, 2, 3])\n",
    "v2 = np.array([4, 5])\n",
    "\n",
    "print(np.reshape(v1, (3, 1)) * v2)"
   ]
  },
  {
   "cell_type": "code",
   "execution_count": 7,
   "id": "50ee059c-807c-4284-8188-3dcf42f10215",
   "metadata": {},
   "outputs": [
    {
     "name": "stdout",
     "output_type": "stream",
     "text": [
      "[[2 4 6]\n",
      " [5 7 9]]\n"
     ]
    }
   ],
   "source": [
    "print(M + v1)"
   ]
  },
  {
   "cell_type": "code",
   "execution_count": 9,
   "id": "f4799861-1a95-4ec0-961c-47f5a686cbad",
   "metadata": {},
   "outputs": [
    {
     "name": "stdout",
     "output_type": "stream",
     "text": [
      "[[ 5  6  7]\n",
      " [ 9 10 11]]\n"
     ]
    }
   ],
   "source": [
    "print((M.T + v2).T)"
   ]
  },
  {
   "cell_type": "code",
   "execution_count": 10,
   "id": "6c9ebd94-dc42-4536-9a4e-0889a8796e97",
   "metadata": {},
   "outputs": [
    {
     "name": "stdout",
     "output_type": "stream",
     "text": [
      "[[ 5  6  7]\n",
      " [ 9 10 11]]\n"
     ]
    }
   ],
   "source": [
    "print(M + np.reshape(v2, (2, 1)))"
   ]
  },
  {
   "cell_type": "markdown",
   "id": "c4d14f5c-0cb5-466c-ba46-04e4abae3fab",
   "metadata": {},
   "source": [
    "從scipy 變成 numpy"
   ]
  },
  {
   "cell_type": "code",
   "execution_count": 14,
   "id": "944337fd-79de-4853-a1e6-6bb5b363e263",
   "metadata": {},
   "outputs": [
    {
     "name": "stdout",
     "output_type": "stream",
     "text": [
      "[[0.         1.41421356 2.23606798]\n",
      " [1.41421356 0.         1.        ]\n",
      " [2.23606798 1.         0.        ]]\n"
     ]
    }
   ],
   "source": [
    "points = np.array([[0, 1], [1, 0], [2, 0]])\n",
    "\n",
    "from scipy.spatial.distance import pdist, squareform\n",
    "D = pdist(points, 'euclidean')\n",
    "print(squareform(D))"
   ]
  },
  {
   "cell_type": "code",
   "execution_count": 13,
   "id": "d27e1dd2-55db-4c91-9d0b-5fdaeb23b09f",
   "metadata": {},
   "outputs": [
    {
     "name": "stdout",
     "output_type": "stream",
     "text": [
      "Collecting scipy\n",
      "  Downloading scipy-1.7.3-cp37-cp37m-win_amd64.whl (34.1 MB)\n",
      "     ---------------------------------------- 34.1/34.1 MB 3.5 MB/s eta 0:00:00\n",
      "Requirement already satisfied: numpy<1.23.0,>=1.16.5 in c:\\users\\tukwa\\scoop\\apps\\python\\current\\lib\\site-packages (from scipy) (1.21.6)\n",
      "Installing collected packages: scipy\n",
      "Successfully installed scipy-1.7.3\n"
     ]
    },
    {
     "name": "stderr",
     "output_type": "stream",
     "text": [
      "\n",
      "[notice] A new release of pip available: 22.2.2 -> 22.3\n",
      "[notice] To update, run: python.exe -m pip install --upgrade pip\n"
     ]
    }
   ],
   "source": [
    "#!pip install scipy"
   ]
  }
 ],
 "metadata": {
  "kernelspec": {
   "display_name": "Python 3 (ipykernel)",
   "language": "python",
   "name": "python3"
  },
  "language_info": {
   "codemirror_mode": {
    "name": "ipython",
    "version": 3
   },
   "file_extension": ".py",
   "mimetype": "text/x-python",
   "name": "python",
   "nbconvert_exporter": "python",
   "pygments_lexer": "ipython3",
   "version": "3.7.4"
  }
 },
 "nbformat": 4,
 "nbformat_minor": 5
}
